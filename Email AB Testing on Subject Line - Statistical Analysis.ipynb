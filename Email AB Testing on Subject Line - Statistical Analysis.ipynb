{
 "cells": [
  {
   "cell_type": "markdown",
   "metadata": {},
   "source": [
    "# A/B Testing on Email Subject Line\n",
    "\n",
    ">**Step 1**: Run the A/B test and collect results\n",
    "<br>\n",
    ">**Step 2**: Create our A/B plotting function\n",
    "<br>\n",
    ">**Step 3**: Open Rate: Distrubtion of Open Rate A vs Open Rate B\n",
    "<br>\n",
    ">**Step 4**: Open Rate: Hypothesis Testing for Open Rate\n",
    "<br>\n",
    ">**Step 5**: Click Rate: Graph distrubtion of Click Rate A vs Click Rate B\n",
    "<br>\n",
    ">**Step 6**: Click Rate: Hypothesis Testing for Click Rate A vs Click Rate B\n",
    "<br>\n",
    ">**Step 7**: Statistical Power analysis\n",
    "<br>\n",
    ">**Step 8**: Conclusion and recommendations\n",
    "<br>"
   ]
  },
  {
   "cell_type": "markdown",
   "metadata": {},
   "source": [
    "# Step 1: Run the A/B test and collect results\n",
    "\n",
    "  \n",
    "We are interested in testing 2 different subject lines for an event invitation, and seeing if there was a significant difference between the open rate and click-to-open rate between the two groups. \n",
    "\n",
    "Both emails were sent to 1076 doctors, at the exact same date and time, with the results as follows:\n",
    "\n",
    "\n",
    "### **Subject Line A**: \n",
    "#### Register today! 2 International Speakers - Event Title\n",
    "\n",
    ">Email was sent to 1076 doctors, where 266 opened the email, and 18 clicked through to the event RSVP link\n",
    ">\n",
    ">**Open Rate**: 24.7%\n",
    ">\n",
    ">**Click-to-Open Rate**: 6.8%\n",
    "\n",
    "<br>\n",
    "\n",
    "### **Subject Line B**:\n",
    "#### Meeting Invite: 2 International Speakers - Event Title (Limited seating)\n",
    "\n",
    ">Email was sent to 1076 doctors, where 242 opened the email, and 31 clicked through to the event RSVP link\n",
    ">\n",
    ">**Open Rate**: 22.5%\n",
    ">\n",
    ">**Click-to-Open Rate**: 12.9%\n",
    "\n",
    "<br>"
   ]
  },
  {
   "cell_type": "markdown",
   "metadata": {},
   "source": [
    "For our analysis, we define the results as follows:"
   ]
  },
  {
   "cell_type": "code",
   "execution_count": 64,
   "metadata": {},
   "outputs": [],
   "source": [
    "A_total = 1076\n",
    "A_open = 266\n",
    "A_click = 18\n",
    "\n",
    "B_total = 1076\n",
    "B_open = 242\n",
    "B_click = 31"
   ]
  },
  {
   "cell_type": "markdown",
   "metadata": {},
   "source": [
    "# Step 2: Create A/B plotting function and hypothesis testing function\n",
    "\n",
    "<br> \n",
    "First let's create a function to plot the distribution of Test A and Test B. \n",
    "<br>\n",
    "<br>\n",
    "We can assume that it is a binomial distrubtion as the data is a series of Bernoulli trials (each trial only has 2 possible outcomes - for example, customer opens email or doesn't open email)."
   ]
  },
  {
   "cell_type": "code",
   "execution_count": 74,
   "metadata": {},
   "outputs": [],
   "source": [
    "import numpy as np\n",
    "import matplotlib.pyplot as plt\n",
    "import scipy.stats as scs\n",
    "from scipy.stats import mannwhitneyu\n",
    "from scipy.stats import binom\n",
    "from scipy.stats import norm\n",
    "\n",
    "def abdist(A_total, A_converted, B_total, B_converted, confidence_level, show_power=True):\n",
    "    \n",
    "    # calculate conversion rate using inputs\n",
    "    A_cr = A_converted/A_total\n",
    "    B_cr = B_converted/B_total\n",
    "\n",
    "    # define the intervals based on the given confidence_level\n",
    "    ppf_left = scs.binom.ppf((1-confidence_level)/2, A_total, A_cr, loc=0)\n",
    "    ppf_right = scs.binom.ppf(1-(1-confidence_level)/2, A_total, A_cr, loc=0)\n",
    "    \n",
    "    # define plot limits \n",
    "    left_A, right_A = scs.binom.interval(0.9999, A_total, A_cr, loc=0)\n",
    "    left_B, right_B = scs.binom.interval(0.9999, B_total, B_cr, loc=0)\n",
    "    \n",
    "    # define text height of labels\n",
    "    txt_height = scs.binom(A_total, A_cr).pmf(A_converted)+(scs.binom(A_total, A_cr).pmf(A_converted)*0.1)\n",
    "    \n",
    "    # plotting distribution for Test A\n",
    "    fig, ax = plt.subplots(figsize=(12,6))\n",
    "    xAC = np.linspace(left_A, right_A,(right_A-left_A+1))\n",
    "    yAC = scs.binom(A_total, A_cr).pmf(xAC)\n",
    "    ax.bar(xAC, yAC, alpha=0.2, label='Test A', color='blue')\n",
    "    ax.axvline(x=A_converted, c='blue', alpha=0.75, linestyle='--')\n",
    "    plt.text(A_converted+0.3,txt_height,f\"Test A: {A_converted}\",c='blue',rotation=90)\n",
    "    \n",
    "    # plotting distrubtion for Test B\n",
    "    xBC = np.linspace(left_B, right_B,(right_B-left_B+1))\n",
    "    yBC = scs.binom(B_total, B_cr).pmf(xBC)\n",
    "    ax.bar(xBC, yBC, alpha=0.2, label='Test B', color='red')\n",
    "    ax.axvline(x=B_converted, c='red', alpha=0.75, linestyle='--')\n",
    "    plt.text(B_converted+0.3,txt_height,f\"Test B: {B_converted}\",c='red',rotation=90)\n",
    "\n",
    "    # adding in the confidence interval\n",
    "    ax.axvline(x=ppf_left, c='black', alpha=0.5, linestyle='--')\n",
    "    plt.text(ppf_left,txt_height,'95%',alpha=0.8,rotation=90)\n",
    "    ax.axvline(x=ppf_right, c='black', alpha=0.5, linestyle='--')\n",
    "    plt.text(ppf_right,txt_height,'95%',alpha=0.8,rotation=90)\n",
    "    \n",
    "    # fill in area to indicate the statiscal power, if user requests\n",
    "    if show_power:\n",
    "        ax.fill_between(xBC, 0, yBC, where=(xBC >= ppf_right), facecolor='brown', alpha=0.5)\n",
    "        statistical_power = (1 - (scs.binom(242,31/242).cdf(25)))*100\n",
    "        print(f\"The statistical power is {statistical_power:0.1f}%\")\n",
    "        \n",
    "    plt.xlabel('converted')\n",
    "    plt.ylabel('probability')\n",
    "    plt.box(False)\n",
    "    plt.legend()\n",
    "    \n",
    "def hypothesis_test(A_total, A_converted, B_total, B_converted, alpha):\n",
    "    a_dist = np.zeros(A_total)\n",
    "    a_dist[:A_converted] = 1\n",
    "    b_dist = np.zeros(B_total)\n",
    "    b_dist[:B_converted] = 1\n",
    "\n",
    "    stat, p_value = mannwhitneyu(a_dist, b_dist, alternative='two-sided')\n",
    "    print(f\"p-value is {p_value:0.3f}\")\n",
    "\n",
    "    if p_value > alpha:\n",
    "        print(f\"As the p-value > {alpha:0.2f}, we cannot reject H0\")\n",
    "    else:\n",
    "        print(f\"As the p-value < {alpha:0.2f}, we can reject H0 and accept H1\")"
   ]
  },
  {
   "cell_type": "markdown",
   "metadata": {},
   "source": [
    "<br>\n",
    "\n",
    "\n",
    "# Step 3: Distrubtion of Open Rate A vs Open Rate B\n",
    "\n",
    "To plot the open rate results, \n",
    "<br>\n",
    "Test A = 1076 emails sent, 266 opened\n",
    "<br>\n",
    "Test B = 1076 emails sent, 242 opened\n",
    "<br> \n",
    "Confidence interval = 95%"
   ]
  },
  {
   "cell_type": "code",
   "execution_count": 66,
   "metadata": {},
   "outputs": [
    {
     "data": {
      "image/png": "[encoded data removed]",
      "text/plain": [
       "<Figure size 864x432 with 1 Axes>"
      ]
     },
     "metadata": {
      "needs_background": "light"
     },
     "output_type": "display_data"
    }
   ],
   "source": [
    "abdist(A_total, A_open, B_total, B_open, 0.95, show_power=False)"
   ]
  },
  {
   "cell_type": "markdown",
   "metadata": {},
   "source": [
    "We can clearly see from the above graph that the result of Test B lies within our 95% confidence interval. That is, 95% of the time we run Test A, we will get results within this interval. This means that even though we ran Test B and it gave us a different open rate to Test A, it is probable that the difference could simply be due to chance. \n",
    "\n",
    "Thus, we cannot conclude that the Test B result varied as a result of the difference in Subject Line, as there's a liklihood we could be seeing this variation due to random chance. "
   ]
  },
  {
   "cell_type": "markdown",
   "metadata": {},
   "source": [
    "<br>\n",
    "\n",
    "\n",
    "# Step 4: Hypothesis Testing for Open Rate\n",
    "\n",
    "<br>\n",
    "\n",
    "Let us confirm our observations above using a hypothesis test to test whether there was a statistical difference between the open rates of Email A vs Email B.\n",
    "\n",
    ">**Null Hypothesis (H0):** \n",
    "Open rate of Email A = Open rate of Email B\n",
    ">\n",
    ">**Alternative Hypothesis (H1):** \n",
    "Open rate of Email A is stastically different to Open rate of Email B"
   ]
  },
  {
   "cell_type": "code",
   "execution_count": 75,
   "metadata": {},
   "outputs": [
    {
     "name": "stdout",
     "output_type": "stream",
     "text": [
      "p-value is 0.223\n",
      "As the p-value > 0.05, we cannot reject H0\n"
     ]
    }
   ],
   "source": [
    "hypothesis_test(A_total, A_open, B_total, B_open, 0.05)"
   ]
  },
  {
   "cell_type": "markdown",
   "metadata": {},
   "source": [
    "Because the p-value is greater than our significance level (alpha = 0.05), we cannot reject the null hypothesis. That is, the difference in open rate which we observed (Test B had -9.02% compared to Test A) could likely have been due to random chance. \n",
    "\n",
    "**Thus, there is no real difference in open rate performance between Subject Line A and B, or we may need to collect more data**\n",
    "\n",
    "\n",
    "<br>"
   ]
  },
  {
   "cell_type": "markdown",
   "metadata": {},
   "source": [
    "# Step 5: Graph distrubtion of Click Rate A vs Click Rate B\n",
    "\n",
    "Next we plot the distribution of Test A and Test B when it comes to the click-to-open rate. We are specifically focusing only on the doctors who OPENED the email. \n",
    "\n",
    "To plot the click-to-open rate results, \n",
    "<br>\n",
    "Test A = 266 opened, 18 clicked to RSVP link\n",
    "<br>\n",
    "Test B = 242 opened, 31 clicked to RSVP link\n",
    "<br> \n",
    "Confidence interval = 95%"
   ]
  },
  {
   "cell_type": "code",
   "execution_count": 68,
   "metadata": {},
   "outputs": [
    {
     "data": {
      "image/png": "[encoded data removed]",
      "text/plain": [
       "<Figure size 864x432 with 1 Axes>"
      ]
     },
     "metadata": {
      "needs_background": "light"
     },
     "output_type": "display_data"
    }
   ],
   "source": [
    "abdist(A_open, A_click, B_open, B_click, 0.95, show_power=False)"
   ]
  },
  {
   "cell_type": "markdown",
   "metadata": {},
   "source": [
    "\n",
    "We can clearly see from the above graph that the result of Test B lies well outside our 95% confidence interval. Looking at where the Test B result lies within Test A's distribution, we can see that it is extremely unlikely that the difference could have happened purely due to chance. \n",
    "\n",
    "Thus, it's likely that we can attribute the significantly improved conversion of Test B to the difference in the Subject Line. "
   ]
  },
  {
   "cell_type": "markdown",
   "metadata": {},
   "source": [
    "<br>\n",
    "\n",
    "# Step 6: Hypothesis Testing for Click Rate A vs Click Rate B\n",
    "\n",
    "<br>\n",
    "\n",
    "We can test whether there was a statistical difference between the click-to-open rates of Subject Line A vs Subject Line B.\n",
    "\n",
    ">**Null Hypothesis (H0):** \n",
    "Click-to-open rate of Subject Line A  = Click-to-open rate of Subject Line B\n",
    ">\n",
    ">**Alternative Hypothesis (H1):** \n",
    "Click-to-open rate of Subject Line A is stastically different to Click-to-open rate of Subject Line B"
   ]
  },
  {
   "cell_type": "code",
   "execution_count": 76,
   "metadata": {},
   "outputs": [
    {
     "name": "stdout",
     "output_type": "stream",
     "text": [
      "p-value is 0.021\n",
      "As the p-value < 0.05, we can reject H0 and accept H1\n"
     ]
    }
   ],
   "source": [
    "hypothesis_test(A_open, A_click, B_open, B_click, 0.05)"
   ]
  },
  {
   "cell_type": "markdown",
   "metadata": {},
   "source": [
    "Because the p-value is less than our significance level (alpha = 0.05), we can reject the null hypothesis and accept the alternative hypothesis (Click-to-open rate of Subject Line A is stastically different to Click-to-open rate of Subject Line B). \n",
    "\n",
    "**Therefore, Email B's click-to-open rate was 89.3% higher than Email A's rate. We can be 95% confident that this uplift was due to the change in our Subject Line, and not from random chance.**\n",
    "\n",
    "\n",
    "<br>"
   ]
  },
  {
   "cell_type": "markdown",
   "metadata": {},
   "source": [
    "# Step 7: Statistical Power\n",
    "\n",
    "The significance level we have used (alpha = 0.05) allows us to reduce our probability of getting a Type I error to 5% (that is, only 5% of the time would we reject the null hypothesis when it was actually true). \n",
    "\n",
    "However, we also want to look at the Statistical Power of a test, to see the probability that our test correctly rejects the null hypothesis (i.e. a true positive result). This is only applicable when the null hypothesis is rejected, which is the case for our click-to-open rate test. \n",
    "\n",
    "The higher the statistical power, the better.\n",
    "\n",
    "Statistical Power = 1 - (Probability of NOT rejecting H0, given that H0 is false)\n",
    "= 1 - (probability of commiting a Type II error)\n",
    "\n",
    "As a standard, we are looking for a Statistical Power > 80%.  \n",
    "\n",
    "Let's calculate and graph our statistical power so we can see it visually. "
   ]
  },
  {
   "cell_type": "code",
   "execution_count": 70,
   "metadata": {},
   "outputs": [
    {
     "name": "stdout",
     "output_type": "stream",
     "text": [
      "The statistical power is 85.6%\n"
     ]
    },
    {
     "data": {
      "image/png": "[encoded data removed]",
      "text/plain": [
       "<Figure size 864x432 with 1 Axes>"
      ]
     },
     "metadata": {
      "needs_background": "light"
     },
     "output_type": "display_data"
    }
   ],
   "source": [
    "abdist(A_open, A_click, B_open, B_click, 0.95, show_power=True)"
   ]
  },
  {
   "cell_type": "markdown",
   "metadata": {},
   "source": [
    "<br>In the above plot, the statistical power of the test is equal to the shaded area of dark red. \n",
    "<br>\n",
    "<br>\n",
    "In our test, the statistical power is 85.6%, which means there is a 85.6% likelihood  that we will not commit a Type II error, which exceeds our minimum requirement of 80%. Thus, we are happy to proceed with the results of this test."
   ]
  },
  {
   "cell_type": "markdown",
   "metadata": {},
   "source": [
    "<br>\n",
    "\n",
    "# Step 7: Conclusion and recommendations"
   ]
  },
  {
   "cell_type": "markdown",
   "metadata": {},
   "source": [
    "Therefore, based on our testing, we can conclude that the different subject lines we used between Test A and Test B did NOT have a significant impact on the open rate. That is, we could have used Subject Line A for both emails and achieved similar open results. \n",
    "\n",
    "**However, it DID have a significant impact on the click-to-open rate. Subject Line B lead to a significantly higher (89.3%) uplift to our click conversion rate. It is likely that the inclusion of the \"Limited Seating\" within the subject line helped to place urgency on doctors to RSVP quickly.**\n",
    "\n",
    "A further A/B test could be conducted where the ONLY difference between the subject lines would be the \"Limited Seating\". For example:\n",
    "> **Test A**: Meeting Invite: Event Title \n",
    "<br>\n",
    "> **Test B**: Meeting Invite (Limited Seating): Event Title\n",
    "\n",
    "If that test confirms our results here, then **we can begin to incorporate \"Limited Seating\" into the subject line of all relevant event e-invitations, as this will help achieve significantly higher click rates.**\n",
    "\n",
    "Further testing could also be conducted to analyse any differences in conversion rates for doctors who actually did RSVP after they arrived on the page, and then the actual attendance rate. However, with the current numbers we are seeing (i.e. 18 clicks for Test A and 31 clicks for Test B), we would need to have a larger sample size to ensure it is sufficient to draw conclusions from.\n",
    "\n",
    "Further testing could be done to find a subject line which actually does improve the open rate, which would therefore increase our sample size for clicks and attendances. For example, a few ideas we could try:\n",
    "- Hi [Name], you're invitation to [Event Name] (Limited Seating)\n",
    "- This session on [Event Title] is sure to [list benefit] (Limited Seating)\n",
    "- Limited Seating: Registration now open for [Event Title]"
   ]
  }
 ],
 "metadata": {
  "kernelspec": {
   "display_name": "Python 3",
   "language": "python",
   "name": "python3"
  },
  "language_info": {
   "codemirror_mode": {
    "name": "ipython",
    "version": 3
   },
   "file_extension": ".py",
   "mimetype": "text/x-python",
   "name": "python",
   "nbconvert_exporter": "python",
   "pygments_lexer": "ipython3",
   "version": "3.7.4"
  }
 },
 "nbformat": 4,
 "nbformat_minor": 2
}
